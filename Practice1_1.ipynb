{
 "cells": [
  {
   "cell_type": "markdown",
   "source": [
    "# CODING BOOTCAMP\n",
    "## Practice 1.  \n",
    "일시 : 2021.09.20 (월)"
   ],
   "metadata": {}
  },
  {
   "cell_type": "markdown",
   "source": [
    "### Level 1 - 유효한 회문 [Stack]\n",
    "\n",
    "회문은 앞으로, 뒤로 읽어도 같은 글자를 의미합니다.\n",
    "\n",
    "문자열을 입력하여 최대 한 문자를 삭제 할 수 있을 때 회문으로 만들 수 있는지 판단 하시오.\n",
    "\n",
    "\n",
    "조건 : 문자열의 최대 길이는 50000입니다.\n",
    "\n",
    "- 입력 : “aba”                   출력 : True  \n",
    "- 입력 : “abca”                  출력 : True  \n",
    "        - 설명 : c를 삭제하면 회문이 됩니다\n"
   ],
   "metadata": {}
  },
  {
   "cell_type": "code",
   "execution_count": 1,
   "source": [
    "import sys\n",
    "\n",
    "# 주피터 노트북에서는 stdin 이 제대로 구성되어 있지 않기 때문에 stdin.readline() 을 실행하면 입력을 받지 못하고 항상 빈 문자열이 반환되므로 input()을 사용해야한다.\n",
    "# 실제 코딩 테스트에서는 input 실행 시간이 느리므로 stdin 사용하는 것이 좋음.\n",
    "\n",
    "string = input()\n",
    "\n",
    "def check(left, right):\n",
    "    while(left<right):\n",
    "        if string[left] == string[right]:\n",
    "            left += 1\n",
    "            right -= 1\n",
    "        else : \n",
    "            return False\n",
    "    return True\n",
    "\n",
    "def twopointer(left, right): \n",
    "    while left < right: \n",
    "        if string[left] == string[right]: \n",
    "            left += 1 \n",
    "            right -= 1 \n",
    "        else: \n",
    "            if check(left+1, right) or check(left, right-1): \n",
    "                return True\n",
    "            return False\n",
    "        return True\n",
    "\n",
    "\n",
    "print(string)\n",
    "print(twopointer(0, len(string)-1))"
   ],
   "outputs": [
    {
     "output_type": "stream",
     "name": "stdout",
     "text": [
      "abca\n",
      "True\n"
     ]
    }
   ],
   "metadata": {}
  },
  {
   "cell_type": "markdown",
   "source": [
    "### Level 1 - 0 이동 [Two Pointers]\n",
    "\n",
    "배열이 주어지면 0을 맨 뒤로 정렬하고 다른 수는 순서를 유지해야합니다. \n",
    "\n",
    "조건 : 배열, 튜플 등 복사본을 만들지 않고 수행 하십시오.\n",
    "\n",
    "- 입력 : [0, 1, 0, 4, 3, 12]  \n",
    "- 출력 : [1, 4, 3, 12, 0, 0]\n"
   ],
   "metadata": {}
  },
  {
   "cell_type": "code",
   "execution_count": 2,
   "source": [
    "numbers = list(map(int, input().split()))\n",
    "print(numbers)\n",
    "\n",
    "cnt = numbers.count(0)\n",
    "\n",
    "for i in range(cnt):\n",
    "    numbers.remove(0)\n",
    "\n",
    "for i in range(cnt):\n",
    "    numbers.append(0)\n",
    "\n",
    "print(numbers)"
   ],
   "outputs": [
    {
     "output_type": "stream",
     "name": "stdout",
     "text": [
      "[0, 1, 0, 4, 3, 12]\n",
      "[1, 4, 3, 12, 0, 0]\n"
     ]
    }
   ],
   "metadata": {}
  },
  {
   "cell_type": "markdown",
   "source": [
    "### Level 1 - 계단 오르기 [DP] [Recursion] [Math]\n",
    "\n",
    "계단을 오르려 합니다 계단의 개수는 n개이며 한번 오를때 1 혹은 2칸씩 오를 수 있습니다. N개의 계단을 오를때 몇 가지 방법으로 다 오를 수 있습니까? \n",
    "\n",
    "계단은 1≤ n ≤  45 입니다.\n",
    "\n",
    "- 입력 : 2 출력 2 (1계단 + 1계단, 2계단)  \n",
    "- 입력 : 3 출력 3 (1+1+1, 1+2, 2+1 씩 오름)\n",
    "\n"
   ],
   "metadata": {}
  },
  {
   "cell_type": "code",
   "execution_count": 3,
   "source": [
    "stairs = int(input())\n",
    "print(stairs)\n",
    "\n",
    "def fib(n):\n",
    "    _curr, _next = 0, 1\n",
    "    for _ in range(n):\n",
    "        _curr, _next = _next, _curr + _next\n",
    "    return _curr\n",
    "\n",
    "print(fib(stairs+1))"
   ],
   "outputs": [
    {
     "output_type": "stream",
     "name": "stdout",
     "text": [
      "4\n",
      "5\n"
     ]
    }
   ],
   "metadata": {}
  },
  {
   "cell_type": "markdown",
   "source": [
    "### Level 1 - 반전 이진 트리 [Binary Tree] [Recursion]\n",
    "\n",
    "![](https://ichi.pro/assets/images/max/724/0*gwBOA5wH-mwAWYMM.png)\n",
    "\n",
    "왼쪽의 트리를 오른쪽처럼 반전시키시오.\n",
    "\n",
    "입력 : [1, 2, 3, 4, 5, 6, 7]  \n",
    "출력 : [1, 3, 2, 7, 6, 5, 4]"
   ],
   "metadata": {}
  },
  {
   "cell_type": "code",
   "execution_count": 4,
   "source": [
    "tree = list(map(int, input().split()))\n",
    "print(tree)\n",
    "\n",
    "temp = len(tree)\n",
    "cnt = 0\n",
    "\n",
    "# 트리 층 수 계산\n",
    "while(temp != 0):\n",
    "    temp = temp //  2\n",
    "    cnt += 1\n",
    "\n",
    "# 층별로 뒤집기\n",
    "result = []\n",
    "for i in range(cnt):\n",
    "    if i == 0:\n",
    "        result.append(tree[0])\n",
    "    else : \n",
    "        copy = tree[(2**i-1):2**(i+1)-1]\n",
    "        copy.reverse()\n",
    "        result = result + copy\n",
    "\n",
    "print(result)\n"
   ],
   "outputs": [
    {
     "output_type": "stream",
     "name": "stdout",
     "text": [
      "[1, 2, 3, 4, 5, 6, 7]\n",
      "[1, 3, 2, 7, 6, 5, 4]\n"
     ]
    }
   ],
   "metadata": {}
  },
  {
   "cell_type": "code",
   "execution_count": null,
   "source": [],
   "outputs": [],
   "metadata": {}
  }
 ],
 "metadata": {
  "kernelspec": {
   "name": "python3",
   "display_name": "Python 3.8.5 64-bit ('base': conda)"
  },
  "language_info": {
   "codemirror_mode": {
    "name": "ipython",
    "version": 3
   },
   "file_extension": ".py",
   "mimetype": "text/x-python",
   "name": "python",
   "nbconvert_exporter": "python",
   "pygments_lexer": "ipython3",
   "version": "3.8.5"
  },
  "interpreter": {
   "hash": "6cdc2c64ecc8d6639d6a3ba6fe0b57c870c815debf02b73e093b0982c21c7b55"
  }
 },
 "nbformat": 4,
 "nbformat_minor": 4
}